{
 "cells": [
  {
   "cell_type": "code",
   "execution_count": 10,
   "metadata": {},
   "outputs": [],
   "source": [
    "import matplotlib.pyplot as plt\n",
    "import pandas as pd\n",
    "\n",
    "%matplotlib tk\n",
    "plt.rcParams[\"figure.figsize\"] = (9,8)\n",
    "\n",
    "df = pd.read_csv('data/AxisAttitudeCascade-pitch.csv', \n",
    "                 names=['angleError', \n",
    "                        'angularVelocity', \n",
    "                        'rawAction',\n",
    "                       'action'],\n",
    "                 index_col=0)\n",
    "\n",
    "df.index = df.index - df.index[0]\n",
    "ax = df.plot()\n",
    "ax.grid()"
   ]
  },
  {
   "cell_type": "code",
   "execution_count": null,
   "metadata": {},
   "outputs": [],
   "source": []
  }
 ],
 "metadata": {
  "kernelspec": {
   "display_name": "Python 3",
   "language": "python",
   "name": "python3"
  },
  "language_info": {
   "codemirror_mode": {
    "name": "ipython",
    "version": 3
   },
   "file_extension": ".py",
   "mimetype": "text/x-python",
   "name": "python",
   "nbconvert_exporter": "python",
   "pygments_lexer": "ipython3",
   "version": "3.6.9"
  }
 },
 "nbformat": 4,
 "nbformat_minor": 2
}
