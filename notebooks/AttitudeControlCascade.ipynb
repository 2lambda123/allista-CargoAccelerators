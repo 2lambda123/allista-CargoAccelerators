{
 "cells": [
  {
   "cell_type": "code",
   "execution_count": 3,
   "metadata": {},
   "outputs": [],
   "source": [
    "import matplotlib.pyplot as plt\n",
    "import pandas as pd\n",
    "import math\n",
    "\n",
    "%matplotlib tk\n",
    "plt.rcParams[\"figure.figsize\"] = (9,8)\n",
    "\n",
    "def clamp(x, low, high):\n",
    "    if x < low:\n",
    "        return low\n",
    "    if x > high:\n",
    "        return high\n",
    "    return x\n",
    "\n",
    "def clamp_sym(x, c):\n",
    "    return clamp(x, -c, c)"
   ]
  },
  {
   "cell_type": "code",
   "execution_count": 11,
   "metadata": {},
   "outputs": [],
   "source": [
    "dt = 0.02\n",
    "maxAA = 0.15\n",
    "AVcap = 1\n",
    "AAcap = 0.5\n",
    "aaNorm = min(AAcap/maxAA, 1)\n",
    "AAcap = min(AAcap, maxAA)\n",
    "\n",
    "t = 0\n",
    "atError = 5\n",
    "AV = 0\n",
    "avError = 0\n",
    "AA = 0\n",
    "\n",
    "df = pd.DataFrame(columns=['t', 'atError', 'eta', 'AV', 'avError', 'AA', 'action'])\n",
    "\n",
    "i = 0\n",
    "while t < 100:\n",
    "    eta = atError/-AV -dt if AV != 0 else 1\n",
    "    maxAV = eta * AAcap if eta >= 0 else AVcap\n",
    "    avError = AV + clamp_sym(atError*maxAV, AVcap)\n",
    "    action = clamp_sym(avError/AVcap*2, aaNorm)\n",
    "    AA = -action*maxAA\n",
    "    AV += AA*dt\n",
    "    atError += AV*dt\n",
    "    t += dt\n",
    "    df.loc[i] = [t, atError, clamp(eta, -5, 5), AV, avError, AA, action]\n",
    "    i += 1\n",
    "    \n",
    "df.set_index('t', drop=True, inplace=True)\n",
    "ax = df.plot()\n",
    "ax.grid()"
   ]
  },
  {
   "cell_type": "code",
   "execution_count": 42,
   "metadata": {},
   "outputs": [
    {
     "name": "stdout",
     "output_type": "stream",
     "text": [
      "Fuel spent: 2.0051496081949476\n"
     ]
    }
   ],
   "source": [
    "dt = 0.02\n",
    "maxAA = 0.15\n",
    "AVcap = 1\n",
    "AAcap = 0.5\n",
    "aaNorm = min(AAcap/maxAA, 1)\n",
    "AAcap = min(AAcap, maxAA)\n",
    "\n",
    "t = 0\n",
    "atError = 50\n",
    "AV = 0\n",
    "avError = 0\n",
    "AA = 0\n",
    "fuel = 0\n",
    "\n",
    "df = pd.DataFrame(columns=['t', 'atError', 'AV', 'AA', 'action'])\n",
    "\n",
    "i = 0\n",
    "while t < 70:\n",
    "    if AV*atError >= 0:\n",
    "        action = clamp_sym(atError+AV/AAcap, 1)*aaNorm\n",
    "    else:\n",
    "        a_to_stop = AV*AV/2/atError if atError != 0 else 0\n",
    "        a_to_stop_abs = abs(a_to_stop)\n",
    "        if a_to_stop_abs > AAcap*(0.99 if action == 0 else 0.9):\n",
    "            action = -clamp_sym(a_to_stop, AAcap)/maxAA\n",
    "        elif a_to_stop_abs < AAcap*0.5 and abs(AV) < AVcap:\n",
    "            action = clamp_sym(atError, 1)*aaNorm\n",
    "        else:\n",
    "            action = 0\n",
    "    AA = -action*maxAA\n",
    "    AV += AA*dt\n",
    "    atError += AV*dt\n",
    "    t += dt\n",
    "    fuel += dt*abs(action*maxAA)\n",
    "    df.loc[i] = [t, atError, AV, AA, action]\n",
    "    i += 1\n",
    "\n",
    "print(f'Fuel spent: {fuel}')\n",
    "df.set_index('t', drop=True, inplace=True)\n",
    "ax = df.plot()\n",
    "ax.grid()"
   ]
  },
  {
   "cell_type": "code",
   "execution_count": null,
   "metadata": {},
   "outputs": [],
   "source": []
  }
 ],
 "metadata": {
  "kernelspec": {
   "display_name": "Python 3",
   "language": "python",
   "name": "python3"
  },
  "language_info": {
   "codemirror_mode": {
    "name": "ipython",
    "version": 3
   },
   "file_extension": ".py",
   "mimetype": "text/x-python",
   "name": "python",
   "nbconvert_exporter": "python",
   "pygments_lexer": "ipython3",
   "version": "3.6.9"
  }
 },
 "nbformat": 4,
 "nbformat_minor": 2
}
